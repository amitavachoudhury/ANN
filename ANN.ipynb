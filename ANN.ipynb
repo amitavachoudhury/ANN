{
 "cells": [
  {
   "cell_type": "code",
   "execution_count": 2,
   "metadata": {},
   "outputs": [],
   "source": [
    "import pandas as pd\n",
    "import numpy as np\n",
    "import matplotlib.pyplot as plt   #Data visualisation libraries \n",
    "import seaborn as sns\n",
    "%matplotlib inline\n",
    "from sklearn.model_selection import train_test_split"
   ]
  },
  {
   "cell_type": "markdown",
   "metadata": {},
   "source": [
    "# input data from csv file"
   ]
  },
  {
   "cell_type": "code",
   "execution_count": null,
   "metadata": {},
   "outputs": [],
   "source": [
    "Metal = pd.read_csv('dataset_114.csv')"
   ]
  },
  {
   "cell_type": "markdown",
   "metadata": {},
   "source": [
    "# print first 5 value from the data frame"
   ]
  },
  {
   "cell_type": "code",
   "execution_count": null,
   "metadata": {},
   "outputs": [],
   "source": [
    "Metal.head()"
   ]
  },
  {
   "cell_type": "markdown",
   "metadata": {},
   "source": [
    "# Data Pre processing\n",
    "Preprocessing involves the following aspects:\n",
    "\n",
    "missing values \n",
    "\n",
    "data standardization\n",
    "\n",
    "data normalization\n",
    "\n",
    "data binning"
   ]
  },
  {
   "cell_type": "code",
   "execution_count": null,
   "metadata": {},
   "outputs": [],
   "source": [
    "df = Metal"
   ]
  },
  {
   "cell_type": "markdown",
   "metadata": {},
   "source": [
    "check null value present or not"
   ]
  },
  {
   "cell_type": "code",
   "execution_count": null,
   "metadata": {},
   "outputs": [],
   "source": [
    "df.isnull()\n",
    "print('all null values is true or false manner')"
   ]
  },
  {
   "cell_type": "markdown",
   "metadata": {},
   "source": [
    "Find out where null values are present"
   ]
  },
  {
   "cell_type": "code",
   "execution_count": null,
   "metadata": {},
   "outputs": [],
   "source": [
    "df.isnull().sum()"
   ]
  },
  {
   "cell_type": "markdown",
   "metadata": {},
   "source": [
    "Drop the row contain NAN"
   ]
  },
  {
   "cell_type": "code",
   "execution_count": null,
   "metadata": {},
   "outputs": [],
   "source": [
    "df.dropna()\n"
   ]
  },
  {
   "cell_type": "markdown",
   "metadata": {},
   "source": [
    "Drop first and last column"
   ]
  },
  {
   "cell_type": "code",
   "execution_count": null,
   "metadata": {},
   "outputs": [],
   "source": [
    "df = df.drop(['Alloy and Temper','other_prop'],axis=1)"
   ]
  },
  {
   "cell_type": "code",
   "execution_count": null,
   "metadata": {},
   "outputs": [],
   "source": [
    "df = df.dropna(how = 'all')"
   ]
  },
  {
   "cell_type": "code",
   "execution_count": null,
   "metadata": {},
   "outputs": [],
   "source": [
    "#all nan value removed except elogation\n",
    "df.isnull().sum()"
   ]
  },
  {
   "cell_type": "markdown",
   "metadata": {},
   "source": [
    "To Know the dhape of dataframe"
   ]
  },
  {
   "cell_type": "code",
   "execution_count": null,
   "metadata": {},
   "outputs": [],
   "source": [
    "df.shape"
   ]
  },
  {
   "cell_type": "markdown",
   "metadata": {},
   "source": [
    "Fill the NAN values from the dataframe"
   ]
  },
  {
   "cell_type": "code",
   "execution_count": null,
   "metadata": {},
   "outputs": [],
   "source": [
    "#replace NAN value with 0\n",
    "df1 = df.fillna()"
   ]
  },
  {
   "cell_type": "code",
   "execution_count": null,
   "metadata": {},
   "outputs": [],
   "source": [
    "df1 = df.fillna(method='ffill') #method=ffill the null value withprevious values"
   ]
  },
  {
   "cell_type": "code",
   "execution_count": null,
   "metadata": {},
   "outputs": [],
   "source": [
    "df1.isna().sum()"
   ]
  },
  {
   "cell_type": "markdown",
   "metadata": {},
   "source": [
    "# data divided into two parts traning and testing"
   ]
  },
  {
   "cell_type": "code",
   "execution_count": null,
   "metadata": {},
   "outputs": [],
   "source": [
    "#data divided into two parts traning and testing\n",
    "X = df1[['Hardness', 'USS', 'Fatigue','Elasticity']]\n",
    "y = df1['UTS']"
   ]
  },
  {
   "cell_type": "code",
   "execution_count": null,
   "metadata": {},
   "outputs": [],
   "source": [
    "X_train, X_test, y_train, y_test = train_test_split(X, y, test_size = 0.2, random_state = 0)"
   ]
  },
  {
   "cell_type": "markdown",
   "metadata": {},
   "source": [
    "# Feature Scaling\n",
    "Data Normalization\n",
    "Data standardization\n",
    "Data normalization refers to shifting the values of your data so they fall between 0 and 1. Data standardization, in this context, is used as a scaling technique to establish the mean and the standard deviation at 0 and 1, respectively."
   ]
  },
  {
   "cell_type": "code",
   "execution_count": null,
   "metadata": {},
   "outputs": [],
   "source": [
    "from sklearn.preprocessing import StandardScaler\n",
    "sc = StandardScaler()\n",
    "X_train = sc.fit_transform(X_train)\n",
    "X_test = sc.transform(X_test)"
   ]
  },
  {
   "cell_type": "markdown",
   "metadata": {},
   "source": [
    "# Build the Neural Netwok"
   ]
  },
  {
   "cell_type": "code",
   "execution_count": 3,
   "metadata": {},
   "outputs": [],
   "source": [
    "from keras.models import Sequential\n",
    "from keras.layers import Dense\n",
    "from keras.wrappers.scikit_learn import KerasRegressor\n",
    "from sklearn.model_selection import cross_val_score\n",
    "from sklearn.model_selection import KFold\n",
    "from sklearn.pipeline import Pipeline"
   ]
  },
  {
   "cell_type": "markdown",
   "metadata": {},
   "source": [
    "# Classification"
   ]
  },
  {
   "cell_type": "code",
   "execution_count": 10,
   "metadata": {},
   "outputs": [],
   "source": [
    "import tensorflow as tf"
   ]
  },
  {
   "cell_type": "code",
   "execution_count": 4,
   "metadata": {},
   "outputs": [
    {
     "data": {
      "text/html": [
       "<div>\n",
       "<style scoped>\n",
       "    .dataframe tbody tr th:only-of-type {\n",
       "        vertical-align: middle;\n",
       "    }\n",
       "\n",
       "    .dataframe tbody tr th {\n",
       "        vertical-align: top;\n",
       "    }\n",
       "\n",
       "    .dataframe thead th {\n",
       "        text-align: right;\n",
       "    }\n",
       "</style>\n",
       "<table border=\"1\" class=\"dataframe\">\n",
       "  <thead>\n",
       "    <tr style=\"text-align: right;\">\n",
       "      <th></th>\n",
       "      <th>Fe</th>\n",
       "      <th>Mn</th>\n",
       "      <th>C</th>\n",
       "      <th>CE</th>\n",
       "      <th>S</th>\n",
       "      <th>P</th>\n",
       "      <th>Tensile Strength</th>\n",
       "      <th>Yield Strength</th>\n",
       "      <th>Elongation</th>\n",
       "      <th>Reduction in area</th>\n",
       "      <th>Hardness</th>\n",
       "      <th>Process</th>\n",
       "    </tr>\n",
       "  </thead>\n",
       "  <tbody>\n",
       "    <tr>\n",
       "      <th>0</th>\n",
       "      <td>1.000000</td>\n",
       "      <td>0.121864</td>\n",
       "      <td>0.000000</td>\n",
       "      <td>0.000000</td>\n",
       "      <td>0.158854</td>\n",
       "      <td>0.0</td>\n",
       "      <td>0.000000</td>\n",
       "      <td>0.000000</td>\n",
       "      <td>1.00</td>\n",
       "      <td>1.000000</td>\n",
       "      <td>0.000000</td>\n",
       "      <td>0</td>\n",
       "    </tr>\n",
       "    <tr>\n",
       "      <th>1</th>\n",
       "      <td>0.953804</td>\n",
       "      <td>0.175627</td>\n",
       "      <td>0.025157</td>\n",
       "      <td>0.039039</td>\n",
       "      <td>0.208333</td>\n",
       "      <td>0.0</td>\n",
       "      <td>0.018349</td>\n",
       "      <td>0.010989</td>\n",
       "      <td>1.00</td>\n",
       "      <td>1.000000</td>\n",
       "      <td>0.000000</td>\n",
       "      <td>0</td>\n",
       "    </tr>\n",
       "    <tr>\n",
       "      <th>2</th>\n",
       "      <td>0.885870</td>\n",
       "      <td>0.211470</td>\n",
       "      <td>0.056604</td>\n",
       "      <td>0.079079</td>\n",
       "      <td>0.247396</td>\n",
       "      <td>0.0</td>\n",
       "      <td>0.064220</td>\n",
       "      <td>0.043956</td>\n",
       "      <td>0.90</td>\n",
       "      <td>0.833333</td>\n",
       "      <td>0.055556</td>\n",
       "      <td>0</td>\n",
       "    </tr>\n",
       "    <tr>\n",
       "      <th>3</th>\n",
       "      <td>0.869565</td>\n",
       "      <td>0.000000</td>\n",
       "      <td>0.465409</td>\n",
       "      <td>0.410410</td>\n",
       "      <td>0.263021</td>\n",
       "      <td>0.0</td>\n",
       "      <td>0.091743</td>\n",
       "      <td>0.054945</td>\n",
       "      <td>0.90</td>\n",
       "      <td>0.833333</td>\n",
       "      <td>0.092593</td>\n",
       "      <td>0</td>\n",
       "    </tr>\n",
       "    <tr>\n",
       "      <th>4</th>\n",
       "      <td>0.600543</td>\n",
       "      <td>0.426523</td>\n",
       "      <td>0.088050</td>\n",
       "      <td>0.169169</td>\n",
       "      <td>0.416667</td>\n",
       "      <td>0.0</td>\n",
       "      <td>0.155963</td>\n",
       "      <td>0.087912</td>\n",
       "      <td>0.75</td>\n",
       "      <td>0.833333</td>\n",
       "      <td>0.148148</td>\n",
       "      <td>0</td>\n",
       "    </tr>\n",
       "  </tbody>\n",
       "</table>\n",
       "</div>"
      ],
      "text/plain": [
       "         Fe        Mn         C        CE         S    P  Tensile Strength  \\\n",
       "0  1.000000  0.121864  0.000000  0.000000  0.158854  0.0          0.000000   \n",
       "1  0.953804  0.175627  0.025157  0.039039  0.208333  0.0          0.018349   \n",
       "2  0.885870  0.211470  0.056604  0.079079  0.247396  0.0          0.064220   \n",
       "3  0.869565  0.000000  0.465409  0.410410  0.263021  0.0          0.091743   \n",
       "4  0.600543  0.426523  0.088050  0.169169  0.416667  0.0          0.155963   \n",
       "\n",
       "   Yield Strength  Elongation  Reduction in area  Hardness  Process  \n",
       "0        0.000000        1.00           1.000000  0.000000        0  \n",
       "1        0.010989        1.00           1.000000  0.000000        0  \n",
       "2        0.043956        0.90           0.833333  0.055556        0  \n",
       "3        0.054945        0.90           0.833333  0.092593        0  \n",
       "4        0.087912        0.75           0.833333  0.148148        0  "
      ]
     },
     "execution_count": 4,
     "metadata": {},
     "output_type": "execute_result"
    }
   ],
   "source": [
    "df = pd.read_csv('ce.csv')\n",
    "df.head()"
   ]
  },
  {
   "cell_type": "code",
   "execution_count": 5,
   "metadata": {},
   "outputs": [
    {
     "name": "stdout",
     "output_type": "stream",
     "text": [
      "Number of Hot: 61\n",
      "Number of Cold: 47\n",
      "Number of ACold: 9\n",
      "Number of SCold: 12\n"
     ]
    },
    {
     "data": {
      "image/png": "[encoded data removed]",
      "text/plain": [
       "<Figure size 432x288 with 1 Axes>"
      ]
     },
     "metadata": {},
     "output_type": "display_data"
    }
   ],
   "source": [
    "# y includes our labels and x includes our features\n",
    "y = df.Process                         # M or B \n",
    "list = ['Process']\n",
    "x = df.drop(list,axis = 1 )\n",
    "x.head()\n",
    "ax = sns.countplot(y,label=\"Count\")       # M = 212, B = 357\n",
    "Hot,Cold,ACold,SCold = y.value_counts()\n",
    "print('Number of Hot:',Hot)\n",
    "print('Number of Cold:',Cold)\n",
    "print('Number of ACold:',SCold)\n",
    "print('Number of SCold:',ACold)"
   ]
  },
  {
   "cell_type": "markdown",
   "metadata": {},
   "source": [
    "# Correlation maping"
   ]
  },
  {
   "cell_type": "code",
   "execution_count": 6,
   "metadata": {},
   "outputs": [
    {
     "data": {
      "text/plain": [
       "<matplotlib.axes._subplots.AxesSubplot at 0x1dabd37dcf8>"
      ]
     },
     "execution_count": 6,
     "metadata": {},
     "output_type": "execute_result"
    },
    {
     "data": {
      "image/png": "[encoded data removed]",
      "text/plain": [
       "<Figure size 1008x576 with 2 Axes>"
      ]
     },
     "metadata": {},
     "output_type": "display_data"
    }
   ],
   "source": [
    "#correlation map\n",
    "f,ax = plt.subplots(figsize=(14, 8))\n",
    "sns.heatmap(x.corr(), annot=True, linewidths=.5, fmt= '.1f',ax=ax)"
   ]
  },
  {
   "cell_type": "code",
   "execution_count": 7,
   "metadata": {},
   "outputs": [],
   "source": [
    "X_train, X_test, y_train, y_test = train_test_split(x, y, test_size = 0.2, random_state = 0, stratify = y)"
   ]
  },
  {
   "cell_type": "code",
   "execution_count": 8,
   "metadata": {},
   "outputs": [],
   "source": [
    "from sklearn.preprocessing import StandardScaler\n",
    "sc = StandardScaler()\n",
    "X_train = sc.fit_transform(X_train)\n",
    "X_test = sc.transform(X_test)"
   ]
  },
  {
   "cell_type": "markdown",
   "metadata": {},
   "source": [
    "# Buliding the ANN"
   ]
  },
  {
   "cell_type": "code",
   "execution_count": 11,
   "metadata": {},
   "outputs": [
    {
     "name": "stdout",
     "output_type": "stream",
     "text": [
      "Epoch 1/100\n",
      "103/103 [==============================] - 4s 42ms/step - loss: 1.3446 - acc: 0.2816\n",
      "Epoch 2/100\n",
      "103/103 [==============================] - 0s 369us/step - loss: 1.3228 - acc: 0.3010\n",
      "Epoch 3/100\n",
      "103/103 [==============================] - 0s 243us/step - loss: 1.3031 - acc: 0.3592\n",
      "Epoch 4/100\n",
      "103/103 [==============================] - 0s 223us/step - loss: 1.2833 - acc: 0.4272\n",
      "Epoch 5/100\n",
      "103/103 [==============================] - 0s 311us/step - loss: 1.2635 - acc: 0.4466\n",
      "Epoch 6/100\n",
      "103/103 [==============================] - 0s 184us/step - loss: 1.2439 - acc: 0.4369\n",
      "Epoch 7/100\n",
      "103/103 [==============================] - 0s 252us/step - loss: 1.2256 - acc: 0.4660\n",
      "Epoch 8/100\n",
      "103/103 [==============================] - 0s 213us/step - loss: 1.2063 - acc: 0.4854\n",
      "Epoch 9/100\n",
      "103/103 [==============================] - 0s 204us/step - loss: 1.1867 - acc: 0.5340\n",
      "Epoch 10/100\n",
      "103/103 [==============================] - 0s 272us/step - loss: 1.1679 - acc: 0.5340\n",
      "Epoch 11/100\n",
      "103/103 [==============================] - 0s 223us/step - loss: 1.1491 - acc: 0.5437\n",
      "Epoch 12/100\n",
      "103/103 [==============================] - 0s 243us/step - loss: 1.1299 - acc: 0.5437\n",
      "Epoch 13/100\n",
      "103/103 [==============================] - 0s 243us/step - loss: 1.1098 - acc: 0.5437\n",
      "Epoch 14/100\n",
      "103/103 [==============================] - 0s 213us/step - loss: 1.0901 - acc: 0.5437\n",
      "Epoch 15/100\n",
      "103/103 [==============================] - 0s 262us/step - loss: 1.0704 - acc: 0.5437\n",
      "Epoch 16/100\n",
      "103/103 [==============================] - 0s 213us/step - loss: 1.0502 - acc: 0.5728\n",
      "Epoch 17/100\n",
      "103/103 [==============================] - 0s 262us/step - loss: 1.0297 - acc: 0.5922\n",
      "Epoch 18/100\n",
      "103/103 [==============================] - 0s 165us/step - loss: 1.0082 - acc: 0.6117\n",
      "Epoch 19/100\n",
      "103/103 [==============================] - 0s 214us/step - loss: 0.9873 - acc: 0.6408\n",
      "Epoch 20/100\n",
      "103/103 [==============================] - 0s 213us/step - loss: 0.9664 - acc: 0.6699\n",
      "Epoch 21/100\n",
      "103/103 [==============================] - 0s 194us/step - loss: 0.9458 - acc: 0.6893\n",
      "Epoch 22/100\n",
      "103/103 [==============================] - 0s 194us/step - loss: 0.9247 - acc: 0.6990\n",
      "Epoch 23/100\n",
      "103/103 [==============================] - 0s 243us/step - loss: 0.9055 - acc: 0.7087\n",
      "Epoch 24/100\n",
      "103/103 [==============================] - 0s 184us/step - loss: 0.8851 - acc: 0.7087\n",
      "Epoch 25/100\n",
      "103/103 [==============================] - 0s 272us/step - loss: 0.8657 - acc: 0.7184\n",
      "Epoch 26/100\n",
      "103/103 [==============================] - 0s 184us/step - loss: 0.8465 - acc: 0.7184\n",
      "Epoch 27/100\n",
      "103/103 [==============================] - 0s 223us/step - loss: 0.8279 - acc: 0.7184\n",
      "Epoch 28/100\n",
      "103/103 [==============================] - 0s 175us/step - loss: 0.8091 - acc: 0.7184\n",
      "Epoch 29/100\n",
      "103/103 [==============================] - 0s 214us/step - loss: 0.7898 - acc: 0.7184\n",
      "Epoch 30/100\n",
      "103/103 [==============================] - 0s 223us/step - loss: 0.7702 - acc: 0.7184\n",
      "Epoch 31/100\n",
      "103/103 [==============================] - 0s 136us/step - loss: 0.7504 - acc: 0.7184\n",
      "Epoch 32/100\n",
      "103/103 [==============================] - 0s 213us/step - loss: 0.7307 - acc: 0.7282\n",
      "Epoch 33/100\n",
      "103/103 [==============================] - 0s 194us/step - loss: 0.7112 - acc: 0.7282\n",
      "Epoch 34/100\n",
      "103/103 [==============================] - 0s 262us/step - loss: 0.6922 - acc: 0.7379\n",
      "Epoch 35/100\n",
      "103/103 [==============================] - 0s 281us/step - loss: 0.6723 - acc: 0.7379\n",
      "Epoch 36/100\n",
      "103/103 [==============================] - 0s 281us/step - loss: 0.6516 - acc: 0.7379\n",
      "Epoch 37/100\n",
      "103/103 [==============================] - 0s 330us/step - loss: 0.6324 - acc: 0.7573\n",
      "Epoch 38/100\n",
      "103/103 [==============================] - 0s 175us/step - loss: 0.6124 - acc: 0.7670\n",
      "Epoch 39/100\n",
      "103/103 [==============================] - 0s 165us/step - loss: 0.5938 - acc: 0.7961\n",
      "Epoch 40/100\n",
      "103/103 [==============================] - 0s 243us/step - loss: 0.5748 - acc: 0.7961\n",
      "Epoch 41/100\n",
      "103/103 [==============================] - 0s 194us/step - loss: 0.5574 - acc: 0.8155\n",
      "Epoch 42/100\n",
      "103/103 [==============================] - 0s 146us/step - loss: 0.5404 - acc: 0.8155\n",
      "Epoch 43/100\n",
      "103/103 [==============================] - 0s 252us/step - loss: 0.5237 - acc: 0.8155\n",
      "Epoch 44/100\n",
      "103/103 [==============================] - 0s 136us/step - loss: 0.5079 - acc: 0.8155\n",
      "Epoch 45/100\n",
      "103/103 [==============================] - 0s 155us/step - loss: 0.4925 - acc: 0.8252\n",
      "Epoch 46/100\n",
      "103/103 [==============================] - 0s 223us/step - loss: 0.4778 - acc: 0.8350\n",
      "Epoch 47/100\n",
      "103/103 [==============================] - 0s 223us/step - loss: 0.4629 - acc: 0.8350\n",
      "Epoch 48/100\n",
      "103/103 [==============================] - 0s 213us/step - loss: 0.4487 - acc: 0.8447\n",
      "Epoch 49/100\n",
      "103/103 [==============================] - 0s 194us/step - loss: 0.4345 - acc: 0.8447\n",
      "Epoch 50/100\n",
      "103/103 [==============================] - 0s 262us/step - loss: 0.4213 - acc: 0.8738\n",
      "Epoch 51/100\n",
      "103/103 [==============================] - 0s 136us/step - loss: 0.4085 - acc: 0.9029\n",
      "Epoch 52/100\n",
      "103/103 [==============================] - 0s 146us/step - loss: 0.3960 - acc: 0.9320\n",
      "Epoch 53/100\n",
      "103/103 [==============================] - 0s 233us/step - loss: 0.3836 - acc: 0.9417\n",
      "Epoch 54/100\n",
      "103/103 [==============================] - 0s 175us/step - loss: 0.3721 - acc: 0.9417\n",
      "Epoch 55/100\n",
      "103/103 [==============================] - 0s 136us/step - loss: 0.3608 - acc: 0.9612\n",
      "Epoch 56/100\n",
      "103/103 [==============================] - 0s 155us/step - loss: 0.3501 - acc: 0.9612\n",
      "Epoch 57/100\n",
      "103/103 [==============================] - 0s 281us/step - loss: 0.3396 - acc: 0.9612\n",
      "Epoch 58/100\n",
      "103/103 [==============================] - 0s 155us/step - loss: 0.3302 - acc: 0.9612\n",
      "Epoch 59/100\n",
      "103/103 [==============================] - ETA: 0s - loss: 0.3436 - acc: 0.968 - 0s 272us/step - loss: 0.3210 - acc: 0.9515\n",
      "Epoch 60/100\n",
      "103/103 [==============================] - 0s 146us/step - loss: 0.3118 - acc: 0.9320\n",
      "Epoch 61/100\n",
      "103/103 [==============================] - 0s 165us/step - loss: 0.3027 - acc: 0.9320\n",
      "Epoch 62/100\n",
      "103/103 [==============================] - 0s 136us/step - loss: 0.2947 - acc: 0.9320\n",
      "Epoch 63/100\n",
      "103/103 [==============================] - 0s 213us/step - loss: 0.2865 - acc: 0.9320\n",
      "Epoch 64/100\n",
      "103/103 [==============================] - 0s 252us/step - loss: 0.2791 - acc: 0.9320\n",
      "Epoch 65/100\n",
      "103/103 [==============================] - 0s 204us/step - loss: 0.2716 - acc: 0.9417\n",
      "Epoch 66/100\n",
      "103/103 [==============================] - 0s 175us/step - loss: 0.2647 - acc: 0.9417\n",
      "Epoch 67/100\n",
      "103/103 [==============================] - 0s 213us/step - loss: 0.2583 - acc: 0.9417\n",
      "Epoch 68/100\n",
      "103/103 [==============================] - 0s 155us/step - loss: 0.2520 - acc: 0.9417\n",
      "Epoch 69/100\n",
      "103/103 [==============================] - ETA: 0s - loss: 0.2186 - acc: 0.906 - 0s 184us/step - loss: 0.2459 - acc: 0.9417\n",
      "Epoch 70/100\n",
      "103/103 [==============================] - 0s 155us/step - loss: 0.2403 - acc: 0.9417\n",
      "Epoch 71/100\n",
      "103/103 [==============================] - 0s 194us/step - loss: 0.2347 - acc: 0.9417\n",
      "Epoch 72/100\n",
      "103/103 [==============================] - 0s 184us/step - loss: 0.2299 - acc: 0.9417\n",
      "Epoch 73/100\n",
      "103/103 [==============================] - 0s 165us/step - loss: 0.2247 - acc: 0.9417\n",
      "Epoch 74/100\n",
      "103/103 [==============================] - 0s 223us/step - loss: 0.2200 - acc: 0.9417\n",
      "Epoch 75/100\n",
      "103/103 [==============================] - 0s 184us/step - loss: 0.2155 - acc: 0.9417\n",
      "Epoch 76/100\n",
      "103/103 [==============================] - 0s 165us/step - loss: 0.2111 - acc: 0.9515\n",
      "Epoch 77/100\n",
      "103/103 [==============================] - 0s 301us/step - loss: 0.2069 - acc: 0.9515\n",
      "Epoch 78/100\n",
      "103/103 [==============================] - 0s 146us/step - loss: 0.2027 - acc: 0.9515\n",
      "Epoch 79/100\n",
      "103/103 [==============================] - 0s 165us/step - loss: 0.1989 - acc: 0.9515\n",
      "Epoch 80/100\n",
      "103/103 [==============================] - 0s 252us/step - loss: 0.1954 - acc: 0.9515\n",
      "Epoch 81/100\n",
      "103/103 [==============================] - 0s 146us/step - loss: 0.1918 - acc: 0.9515\n",
      "Epoch 82/100\n",
      "103/103 [==============================] - 0s 155us/step - loss: 0.1885 - acc: 0.9515\n",
      "Epoch 83/100\n"
     ]
    },
    {
     "name": "stdout",
     "output_type": "stream",
     "text": [
      "103/103 [==============================] - 0s 184us/step - loss: 0.1854 - acc: 0.9515\n",
      "Epoch 84/100\n",
      "103/103 [==============================] - 0s 306us/step - loss: 0.1825 - acc: 0.9515\n",
      "Epoch 85/100\n",
      "103/103 [==============================] - 0s 146us/step - loss: 0.1794 - acc: 0.9515\n",
      "Epoch 86/100\n",
      "103/103 [==============================] - 0s 155us/step - loss: 0.1767 - acc: 0.9515\n",
      "Epoch 87/100\n",
      "103/103 [==============================] - 0s 485us/step - loss: 0.1739 - acc: 0.9515\n",
      "Epoch 88/100\n",
      "103/103 [==============================] - 0s 184us/step - loss: 0.1713 - acc: 0.9515\n",
      "Epoch 89/100\n",
      "103/103 [==============================] - 0s 175us/step - loss: 0.1688 - acc: 0.9515\n",
      "Epoch 90/100\n",
      "103/103 [==============================] - 0s 349us/step - loss: 0.1664 - acc: 0.9515\n",
      "Epoch 91/100\n",
      "103/103 [==============================] - 0s 184us/step - loss: 0.1641 - acc: 0.9515\n",
      "Epoch 92/100\n",
      "103/103 [==============================] - 0s 165us/step - loss: 0.1621 - acc: 0.9515\n",
      "Epoch 93/100\n",
      "103/103 [==============================] - 0s 184us/step - loss: 0.1601 - acc: 0.9515\n",
      "Epoch 94/100\n",
      "103/103 [==============================] - ETA: 0s - loss: 0.1710 - acc: 0.937 - 0s 805us/step - loss: 0.1580 - acc: 0.9515\n",
      "Epoch 95/100\n",
      "103/103 [==============================] - 0s 262us/step - loss: 0.1562 - acc: 0.9515\n",
      "Epoch 96/100\n",
      "103/103 [==============================] - 0s 175us/step - loss: 0.1542 - acc: 0.9515\n",
      "Epoch 97/100\n",
      "103/103 [==============================] - 0s 514us/step - loss: 0.1525 - acc: 0.9515\n",
      "Epoch 98/100\n",
      "103/103 [==============================] - 0s 252us/step - loss: 0.1509 - acc: 0.9515\n",
      "Epoch 99/100\n",
      "103/103 [==============================] - 0s 194us/step - loss: 0.1493 - acc: 0.9515\n",
      "Epoch 100/100\n",
      "103/103 [==============================] - ETA: 0s - loss: 0.1207 - acc: 0.937 - 0s 175us/step - loss: 0.1479 - acc: 0.9417\n"
     ]
    },
    {
     "data": {
      "text/plain": [
       "<tensorflow.python.keras._impl.keras.callbacks.History at 0x1dabd5c8e48>"
      ]
     },
     "execution_count": 11,
     "metadata": {},
     "output_type": "execute_result"
    }
   ],
   "source": [
    "# Initializing the ANN\n",
    "ann = tf.keras.models.Sequential()\n",
    "\n",
    "# Adding the input layer and the first hidden layer\n",
    "ann.add(tf.keras.layers.Dense(units=11,input_dim=11, activation='relu'))\n",
    "\n",
    "# Adding the second hidden layer\n",
    "ann.add(tf.keras.layers.Dense(units=6, activation='relu'))\n",
    "\n",
    "# Adding the output layer\n",
    "ann.add(tf.keras.layers.Dense(units= 4, activation='softmax'))\n",
    "\n",
    "# Part 3 - Training the ANN\n",
    "\n",
    "# Compiling the ANN\n",
    "ann.compile(optimizer = 'adam', loss = 'sparse_categorical_crossentropy', metrics = ['accuracy'])\n",
    "\n",
    "# Training the ANN on the Training set\n",
    "ann.fit(X_train, y_train, batch_size = 32, epochs = 100)"
   ]
  },
  {
   "cell_type": "code",
   "execution_count": 12,
   "metadata": {},
   "outputs": [
    {
     "name": "stdout",
     "output_type": "stream",
     "text": [
      "26/26 [==============================] - 0s 3ms/step\n",
      "\n",
      "acc: 96.15%\n"
     ]
    }
   ],
   "source": [
    "# evaluate the model\n",
    "scores = ann.evaluate(X_test, y_test)\n",
    "print(\"\\n%s: %.2f%%\" % (ann.metrics_names[1], scores[1]*100))"
   ]
  },
  {
   "cell_type": "markdown",
   "metadata": {},
   "source": [
    "# single value prediction"
   ]
  },
  {
   "cell_type": "code",
   "execution_count": 14,
   "metadata": {},
   "outputs": [
    {
     "name": "stdout",
     "output_type": "stream",
     "text": [
      "[[ True False False False]]\n"
     ]
    }
   ],
   "source": [
    "print(ann.predict(sc.transform([[1,0.121863799,0,0,0.158854167,0,0,0,1,1,0]])) > 0.5)"
   ]
  },
  {
   "cell_type": "markdown",
   "metadata": {},
   "source": [
    "# Confusion Matrix"
   ]
  },
  {
   "cell_type": "code",
   "execution_count": 15,
   "metadata": {},
   "outputs": [],
   "source": [
    "from sklearn.datasets import make_circles\n",
    "from sklearn.metrics import accuracy_score\n",
    "from sklearn.metrics import precision_score\n",
    "from sklearn.metrics import recall_score\n",
    "from sklearn.metrics import f1_score\n",
    "from sklearn.metrics import cohen_kappa_score\n",
    "from sklearn.metrics import roc_auc_score\n",
    "from sklearn.metrics import confusion_matrix\n",
    "from keras.models import Sequential\n",
    "from keras.layers import Dense"
   ]
  },
  {
   "cell_type": "code",
   "execution_count": 17,
   "metadata": {},
   "outputs": [],
   "source": [
    "# predict probabilities for test set\n",
    "yhat_probs = ann.predict(X_test, verbose=0)\n",
    "# predict crisp classes for test set\n",
    "yhat_classes = ann.predict_classes(X_test, verbose=0)\n",
    "# reduce to 1d array\n",
    "yhat_probs = yhat_probs[:, 0]\n",
    "#yhat_classes = yhat_classes[:, 0]"
   ]
  },
  {
   "cell_type": "code",
   "execution_count": 18,
   "metadata": {},
   "outputs": [
    {
     "name": "stdout",
     "output_type": "stream",
     "text": [
      "Accuracy: 0.961538\n",
      "Precision: 0.961538\n",
      "Recall: 0.961538\n",
      "F1 score: 0.961538\n",
      "Cohens kappa: 0.938679\n",
      "[[12  0  0  0]\n",
      " [ 0 10  0  0]\n",
      " [ 0  0  1  1]\n",
      " [ 0  0  0  2]]\n"
     ]
    },
    {
     "name": "stderr",
     "output_type": "stream",
     "text": [
      "C:\\Users\\achoudhury\\AppData\\Local\\Continuum\\miniconda3\\lib\\site-packages\\sklearn\\metrics\\classification.py:1045: UserWarning: Note that pos_label (set to 'positive') is ignored when average != 'binary' (got 'micro'). You may use labels=[pos_label] to specify a single positive class.\n",
      "  % (pos_label, average), UserWarning)\n",
      "C:\\Users\\achoudhury\\AppData\\Local\\Continuum\\miniconda3\\lib\\site-packages\\sklearn\\metrics\\classification.py:1045: UserWarning: Note that pos_label (set to 'positive') is ignored when average != 'binary' (got 'micro'). You may use labels=[pos_label] to specify a single positive class.\n",
      "  % (pos_label, average), UserWarning)\n",
      "C:\\Users\\achoudhury\\AppData\\Local\\Continuum\\miniconda3\\lib\\site-packages\\sklearn\\metrics\\classification.py:1045: UserWarning: Note that pos_label (set to 'positive') is ignored when average != 'binary' (got 'micro'). You may use labels=[pos_label] to specify a single positive class.\n",
      "  % (pos_label, average), UserWarning)\n"
     ]
    }
   ],
   "source": [
    "# accuracy: (tp + tn) / (p + n)\n",
    "accuracy = accuracy_score(y_test, yhat_classes)\n",
    "print('Accuracy: %f' % accuracy)\n",
    "\n",
    "# precision tp / (tp + fp)\n",
    "precision = precision_score(y_test, yhat_classes, pos_label='positive', average='micro')\n",
    "print('Precision: %f' % precision)\n",
    "# recall: tp / (tp + fn)\n",
    "recall = recall_score(y_test, yhat_classes, pos_label='positive', average='micro')\n",
    "print('Recall: %f' % recall)\n",
    "# f1: 2 tp / (2 tp + fp + fn)\n",
    "f1 = f1_score(y_test, yhat_classes, pos_label='positive', average='micro')\n",
    "print('F1 score: %f' % f1)\n",
    " \n",
    "# kappa\n",
    "kappa = cohen_kappa_score(y_test, yhat_classes)\n",
    "print('Cohens kappa: %f' % kappa)\n",
    "\n",
    "#confution matrix\n",
    "matrix = confusion_matrix(y_test, yhat_classes)\n",
    "print(matrix)"
   ]
  },
  {
   "cell_type": "code",
   "execution_count": 19,
   "metadata": {},
   "outputs": [
    {
     "data": {
      "text/plain": [
       "<matplotlib.axes._subplots.AxesSubplot at 0x1dabedbc978>"
      ]
     },
     "execution_count": 19,
     "metadata": {},
     "output_type": "execute_result"
    },
    {
     "data": {
      "image/png": "[encoded data removed]",
      "text/plain": [
       "<Figure size 432x288 with 2 Axes>"
      ]
     },
     "metadata": {},
     "output_type": "display_data"
    }
   ],
   "source": [
    "sns.heatmap(matrix,annot=True,fmt=\"d\")"
   ]
  },
  {
   "cell_type": "code",
   "execution_count": null,
   "metadata": {},
   "outputs": [],
   "source": []
  }
 ],
 "metadata": {
  "kernelspec": {
   "display_name": "Python 3",
   "language": "python",
   "name": "python3"
  },
  "language_info": {
   "codemirror_mode": {
    "name": "ipython",
    "version": 3
   },
   "file_extension": ".py",
   "mimetype": "text/x-python",
   "name": "python",
   "nbconvert_exporter": "python",
   "pygments_lexer": "ipython3",
   "version": "3.6.5"
  }
 },
 "nbformat": 4,
 "nbformat_minor": 2
}
